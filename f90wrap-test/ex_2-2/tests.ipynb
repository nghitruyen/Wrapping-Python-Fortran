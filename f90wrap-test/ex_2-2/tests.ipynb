{
 "cells": [
  {
   "cell_type": "code",
   "execution_count": 5,
   "metadata": {},
   "outputs": [],
   "source": [
    "from module import module_test as tp\n",
    "from numpy import zeros, ones, float32, abs, max"
   ]
  },
  {
   "cell_type": "code",
   "execution_count": 6,
   "metadata": {},
   "outputs": [
    {
     "name": "stdout",
     "output_type": "stream",
     "text": [
      "This is the freshly allocated array : [0.e+00 0.e+00 0.e+00 1.e-45 1.e+00 1.e+00]\n",
      "This is sent to fortran : [1. 1. 1. 1. 1. 1.]\n",
      "This is received by python : [1. 1. 1. 4. 1. 1.]\n"
     ]
    }
   ],
   "source": [
    "a = tp.real_array()\n",
    "print(\"This is the freshly allocated array : \" + str(a.item))\n",
    "a.item = ones(6, dtype=float32) \n",
    "print(\"This is sent to fortran : \" + str(a.item))\n",
    "tp.testf(a)\n",
    "print(\"This is received by python : \" + str(a.item))\n",
    "\n",
    "assert max(abs(a.item - [1.0, 1.0, 1.0, 4.0, 1.0, 1.0])) < 1e-6"
   ]
  },
  {
   "cell_type": "code",
   "execution_count": null,
   "metadata": {},
   "outputs": [],
   "source": []
  }
 ],
 "metadata": {
  "kernelspec": {
   "display_name": "Python 3",
   "language": "python",
   "name": "python3"
  },
  "language_info": {
   "codemirror_mode": {
    "name": "ipython",
    "version": 3
   },
   "file_extension": ".py",
   "mimetype": "text/x-python",
   "name": "python",
   "nbconvert_exporter": "python",
   "pygments_lexer": "ipython3",
   "version": "3.7.6"
  }
 },
 "nbformat": 4,
 "nbformat_minor": 4
}
