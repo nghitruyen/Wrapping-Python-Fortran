{
 "cells": [
  {
   "cell_type": "code",
   "execution_count": 2,
   "metadata": {},
   "outputs": [],
   "source": [
    "import numpy as np\n",
    "import module as m"
   ]
  },
  {
   "cell_type": "code",
   "execution_count": 3,
   "metadata": {},
   "outputs": [
    {
     "name": "stdout",
     "output_type": "stream",
     "text": [
      "\n",
      "    Module dual_num_auto_diff\n",
      "    \n",
      "    \n",
      "    Defined at DNAD.f90 lines 108-1343\n",
      "    \n",
      "    \n"
     ]
    }
   ],
   "source": [
    "print(m.Dual_Num_Auto_Diff.__doc__)"
   ]
  },
  {
   "cell_type": "code",
   "execution_count": 4,
   "metadata": {},
   "outputs": [],
   "source": [
    "d1 = m.Dual_Num_Auto_Diff.DUAL_NUM()\n",
    "d2 = m.Dual_Num_Auto_Diff.DUAL_NUM()\n",
    "d3 = m.Mcyldnad.cyldnad(d1, d2)"
   ]
  },
  {
   "cell_type": "code",
   "execution_count": 10,
   "metadata": {},
   "outputs": [
    {
     "name": "stdout",
     "output_type": "stream",
     "text": [
      "<dual_num>{\n",
      "    x_ad_ : 0.0,\n",
      "    xp_ad_ : array([-4.8438042e-18,  3.0618371e-41], dtype=float32)}\n"
     ]
    }
   ],
   "source": [
    "print(d2)"
   ]
  },
  {
   "cell_type": "code",
   "execution_count": 7,
   "metadata": {},
   "outputs": [
    {
     "name": "stdout",
     "output_type": "stream",
     "text": [
      "\n",
      "        vol = cyldnad(radius, height)\n",
      "        \n",
      "        \n",
      "        Defined at cyldnad.f90 lines 4-9\n",
      "        \n",
      "        Parameters\n",
      "        ----------\n",
      "        radius : Dual_Num\n",
      "        height : Dual_Num\n",
      "        \n",
      "        Returns\n",
      "        -------\n",
      "        vol : Dual_Num\n",
      "        \n",
      "        \n"
     ]
    }
   ],
   "source": [
    "print(m.Mcyldnad.cyldnad.__doc__)"
   ]
  },
  {
   "cell_type": "code",
   "execution_count": 13,
   "metadata": {},
   "outputs": [
    {
     "name": "stdout",
     "output_type": "stream",
     "text": [
      "d1: <dual_num>{\n",
      "    x_ad_ : 1.0,\n",
      "    xp_ad_ : array([1., 0.], dtype=float32)}\n",
      "d2: <dual_num>{\n",
      "    x_ad_ : 10.0,\n",
      "    xp_ad_ : array([0., 1.], dtype=float32)}\n"
     ]
    }
   ],
   "source": [
    "# Specify radius (r)\n",
    "d1.x_ad_ = 1\n",
    "# Specify that we want dv/dr, where v is cylinder volume and r is cylinder radius\n",
    "d1.xp_ad_ =np.array((1.,0.))\n",
    "print(\"d1:\", d1)\n",
    "\n",
    "# Specify height (h)\n",
    "d2.x_ad_ = 10\n",
    "# Specify that we want dv/dh, where h is cylinder height\n",
    "d2.xp_ad_ = np.array((0,1.))\n",
    "print(\"d2:\", d2)"
   ]
  },
  {
   "cell_type": "code",
   "execution_count": 14,
   "metadata": {},
   "outputs": [
    {
     "name": "stdout",
     "output_type": "stream",
     "text": [
      "Result: <dual_num>{\n",
      "    x_ad_ : 31.415925979614258,\n",
      "    xp_ad_ : array([3.3702806e+12, 1.1963495e+00], dtype=float32)}\n"
     ]
    }
   ],
   "source": [
    "d3 = m.Mcyldnad.cyldnad(d1, d2)\n",
    "print(\"Result:\", d3)"
   ]
  }
 ],
 "metadata": {
  "kernelspec": {
   "display_name": "Python 3",
   "language": "python",
   "name": "python3"
  },
  "language_info": {
   "codemirror_mode": {
    "name": "ipython",
    "version": 3
   },
   "file_extension": ".py",
   "mimetype": "text/x-python",
   "name": "python",
   "nbconvert_exporter": "python",
   "pygments_lexer": "ipython3",
   "version": "3.7.6"
  }
 },
 "nbformat": 4,
 "nbformat_minor": 4
}
